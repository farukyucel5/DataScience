{
 "cells": [
  {
   "cell_type": "code",
   "execution_count": 1,
   "id": "99df89da-a696-453c-92cb-6b6767be9d68",
   "metadata": {},
   "outputs": [],
   "source": [
    "import pandas as pd\n",
    "import matplotlib.pyplot as plt\n",
    "import numpy as np # linear algebra"
   ]
  },
  {
   "cell_type": "code",
   "execution_count": 2,
   "id": "6a42178b-9604-4b38-8062-f0f58b60c018",
   "metadata": {},
   "outputs": [
    {
     "data": {
      "text/plain": [
       "[['Spain', 'France'], ['11', '12']]"
      ]
     },
     "execution_count": 2,
     "metadata": {},
     "output_type": "execute_result"
    }
   ],
   "source": [
    "# data frames from dictionary\n",
    "country = [\"Spain\",\"France\"]\n",
    "population = [\"11\",\"12\"]\n",
    "list_label = [\"country\",\"population\"]\n",
    "list_col = [country,population]\n",
    "list_col\n"
   ]
  },
  {
   "cell_type": "code",
   "execution_count": 3,
   "id": "7349655c-f17a-43e8-b455-09256d883790",
   "metadata": {},
   "outputs": [
    {
     "data": {
      "text/plain": [
       "[('country', ['Spain', 'France']), ('population', ['11', '12'])]"
      ]
     },
     "execution_count": 3,
     "metadata": {},
     "output_type": "execute_result"
    }
   ],
   "source": [
    "zipped = list(zip(list_label,list_col))\n",
    "zipped"
   ]
  },
  {
   "cell_type": "code",
   "execution_count": 4,
   "id": "bb972434-4a76-4956-99e2-d1bb61a04a3a",
   "metadata": {},
   "outputs": [
    {
     "data": {
      "text/plain": [
       "{'country': ['Spain', 'France'], 'population': ['11', '12']}"
      ]
     },
     "execution_count": 4,
     "metadata": {},
     "output_type": "execute_result"
    }
   ],
   "source": [
    "data_dict = dict(zipped)\n",
    "data_dict"
   ]
  },
  {
   "cell_type": "code",
   "execution_count": 5,
   "id": "c98a6f0e-9155-49d8-8425-9555c68a9d32",
   "metadata": {},
   "outputs": [
    {
     "data": {
      "text/html": [
       "<div>\n",
       "<style scoped>\n",
       "    .dataframe tbody tr th:only-of-type {\n",
       "        vertical-align: middle;\n",
       "    }\n",
       "\n",
       "    .dataframe tbody tr th {\n",
       "        vertical-align: top;\n",
       "    }\n",
       "\n",
       "    .dataframe thead th {\n",
       "        text-align: right;\n",
       "    }\n",
       "</style>\n",
       "<table border=\"1\" class=\"dataframe\">\n",
       "  <thead>\n",
       "    <tr style=\"text-align: right;\">\n",
       "      <th></th>\n",
       "      <th>country</th>\n",
       "      <th>population</th>\n",
       "    </tr>\n",
       "  </thead>\n",
       "  <tbody>\n",
       "    <tr>\n",
       "      <th>0</th>\n",
       "      <td>Spain</td>\n",
       "      <td>11</td>\n",
       "    </tr>\n",
       "    <tr>\n",
       "      <th>1</th>\n",
       "      <td>France</td>\n",
       "      <td>12</td>\n",
       "    </tr>\n",
       "  </tbody>\n",
       "</table>\n",
       "</div>"
      ],
      "text/plain": [
       "  country population\n",
       "0   Spain         11\n",
       "1  France         12"
      ]
     },
     "execution_count": 5,
     "metadata": {},
     "output_type": "execute_result"
    }
   ],
   "source": [
    "df = pd.DataFrame(data_dict)\n",
    "df"
   ]
  },
  {
   "cell_type": "code",
   "execution_count": 6,
   "id": "3f635d27-4e29-4e97-99a3-2d60452d60a0",
   "metadata": {},
   "outputs": [
    {
     "data": {
      "text/html": [
       "<div>\n",
       "<style scoped>\n",
       "    .dataframe tbody tr th:only-of-type {\n",
       "        vertical-align: middle;\n",
       "    }\n",
       "\n",
       "    .dataframe tbody tr th {\n",
       "        vertical-align: top;\n",
       "    }\n",
       "\n",
       "    .dataframe thead th {\n",
       "        text-align: right;\n",
       "    }\n",
       "</style>\n",
       "<table border=\"1\" class=\"dataframe\">\n",
       "  <thead>\n",
       "    <tr style=\"text-align: right;\">\n",
       "      <th></th>\n",
       "      <th>country</th>\n",
       "      <th>population</th>\n",
       "      <th>capital</th>\n",
       "    </tr>\n",
       "  </thead>\n",
       "  <tbody>\n",
       "    <tr>\n",
       "      <th>0</th>\n",
       "      <td>Spain</td>\n",
       "      <td>11</td>\n",
       "      <td>madrid</td>\n",
       "    </tr>\n",
       "    <tr>\n",
       "      <th>1</th>\n",
       "      <td>France</td>\n",
       "      <td>12</td>\n",
       "      <td>paris</td>\n",
       "    </tr>\n",
       "  </tbody>\n",
       "</table>\n",
       "</div>"
      ],
      "text/plain": [
       "  country population capital\n",
       "0   Spain         11  madrid\n",
       "1  France         12   paris"
      ]
     },
     "execution_count": 6,
     "metadata": {},
     "output_type": "execute_result"
    }
   ],
   "source": [
    "# Add new columns\n",
    "df[\"capital\"] = [\"madrid\",\"paris\"]\n",
    "df"
   ]
  },
  {
   "cell_type": "code",
   "execution_count": 7,
   "id": "b8b3431e-a9a3-4e72-bbb2-1fbe0a498fdf",
   "metadata": {},
   "outputs": [],
   "source": [
    "df[\"surface_area\"]=[\"500303\",\"400567\"]"
   ]
  },
  {
   "cell_type": "code",
   "execution_count": 8,
   "id": "89cd47f7-29f1-49b2-8540-faa4ccd1528a",
   "metadata": {},
   "outputs": [
    {
     "data": {
      "text/html": [
       "<div>\n",
       "<style scoped>\n",
       "    .dataframe tbody tr th:only-of-type {\n",
       "        vertical-align: middle;\n",
       "    }\n",
       "\n",
       "    .dataframe tbody tr th {\n",
       "        vertical-align: top;\n",
       "    }\n",
       "\n",
       "    .dataframe thead th {\n",
       "        text-align: right;\n",
       "    }\n",
       "</style>\n",
       "<table border=\"1\" class=\"dataframe\">\n",
       "  <thead>\n",
       "    <tr style=\"text-align: right;\">\n",
       "      <th></th>\n",
       "      <th>country</th>\n",
       "      <th>population</th>\n",
       "      <th>capital</th>\n",
       "      <th>surface_area</th>\n",
       "    </tr>\n",
       "  </thead>\n",
       "  <tbody>\n",
       "    <tr>\n",
       "      <th>0</th>\n",
       "      <td>Spain</td>\n",
       "      <td>11</td>\n",
       "      <td>madrid</td>\n",
       "      <td>500303</td>\n",
       "    </tr>\n",
       "    <tr>\n",
       "      <th>1</th>\n",
       "      <td>France</td>\n",
       "      <td>12</td>\n",
       "      <td>paris</td>\n",
       "      <td>400567</td>\n",
       "    </tr>\n",
       "  </tbody>\n",
       "</table>\n",
       "</div>"
      ],
      "text/plain": [
       "  country population capital surface_area\n",
       "0   Spain         11  madrid       500303\n",
       "1  France         12   paris       400567"
      ]
     },
     "execution_count": 8,
     "metadata": {},
     "output_type": "execute_result"
    }
   ],
   "source": [
    "df"
   ]
  },
  {
   "cell_type": "code",
   "execution_count": 9,
   "id": "a9238a9c-e955-4a85-8678-34e717fc9dc9",
   "metadata": {},
   "outputs": [
    {
     "data": {
      "text/html": [
       "<div>\n",
       "<style scoped>\n",
       "    .dataframe tbody tr th:only-of-type {\n",
       "        vertical-align: middle;\n",
       "    }\n",
       "\n",
       "    .dataframe tbody tr th {\n",
       "        vertical-align: top;\n",
       "    }\n",
       "\n",
       "    .dataframe thead th {\n",
       "        text-align: right;\n",
       "    }\n",
       "</style>\n",
       "<table border=\"1\" class=\"dataframe\">\n",
       "  <thead>\n",
       "    <tr style=\"text-align: right;\">\n",
       "      <th></th>\n",
       "      <th>country</th>\n",
       "      <th>population</th>\n",
       "      <th>capital</th>\n",
       "      <th>surface_area</th>\n",
       "      <th>income</th>\n",
       "    </tr>\n",
       "  </thead>\n",
       "  <tbody>\n",
       "    <tr>\n",
       "      <th>0</th>\n",
       "      <td>Spain</td>\n",
       "      <td>11</td>\n",
       "      <td>madrid</td>\n",
       "      <td>500303</td>\n",
       "      <td>0</td>\n",
       "    </tr>\n",
       "    <tr>\n",
       "      <th>1</th>\n",
       "      <td>France</td>\n",
       "      <td>12</td>\n",
       "      <td>paris</td>\n",
       "      <td>400567</td>\n",
       "      <td>0</td>\n",
       "    </tr>\n",
       "  </tbody>\n",
       "</table>\n",
       "</div>"
      ],
      "text/plain": [
       "  country population capital surface_area  income\n",
       "0   Spain         11  madrid       500303       0\n",
       "1  France         12   paris       400567       0"
      ]
     },
     "execution_count": 9,
     "metadata": {},
     "output_type": "execute_result"
    }
   ],
   "source": [
    "# Broadcasting\n",
    "df[\"income\"] = 0 #Broadcasting entire column\n",
    "df"
   ]
  },
  {
   "cell_type": "code",
   "execution_count": 10,
   "id": "e58f8d4b-4b33-4280-aaa0-8a7a0ac5535e",
   "metadata": {},
   "outputs": [],
   "source": [
    "data = pd.read_csv('Data/movies.csv.zip')"
   ]
  },
  {
   "cell_type": "code",
   "execution_count": 11,
   "id": "3a3e8040-643e-497e-ac55-393245d630d8",
   "metadata": {},
   "outputs": [
    {
     "data": {
      "text/html": [
       "<div>\n",
       "<style scoped>\n",
       "    .dataframe tbody tr th:only-of-type {\n",
       "        vertical-align: middle;\n",
       "    }\n",
       "\n",
       "    .dataframe tbody tr th {\n",
       "        vertical-align: top;\n",
       "    }\n",
       "\n",
       "    .dataframe thead th {\n",
       "        text-align: right;\n",
       "    }\n",
       "</style>\n",
       "<table border=\"1\" class=\"dataframe\">\n",
       "  <thead>\n",
       "    <tr style=\"text-align: right;\">\n",
       "      <th></th>\n",
       "      <th>Unnamed: 0</th>\n",
       "      <th>id</th>\n",
       "      <th>title</th>\n",
       "      <th>overview</th>\n",
       "      <th>release_date</th>\n",
       "      <th>popularity</th>\n",
       "      <th>vote_average</th>\n",
       "      <th>vote_count</th>\n",
       "    </tr>\n",
       "  </thead>\n",
       "  <tbody>\n",
       "    <tr>\n",
       "      <th>0</th>\n",
       "      <td>0</td>\n",
       "      <td>278</td>\n",
       "      <td>The Shawshank Redemption</td>\n",
       "      <td>Imprisoned in the 1940s for the double murder ...</td>\n",
       "      <td>1994-09-23</td>\n",
       "      <td>162.501</td>\n",
       "      <td>8.704</td>\n",
       "      <td>26105</td>\n",
       "    </tr>\n",
       "    <tr>\n",
       "      <th>1</th>\n",
       "      <td>1</td>\n",
       "      <td>238</td>\n",
       "      <td>The Godfather</td>\n",
       "      <td>Spanning the years 1945 to 1955, a chronicle o...</td>\n",
       "      <td>1972-03-14</td>\n",
       "      <td>192.686</td>\n",
       "      <td>8.696</td>\n",
       "      <td>19788</td>\n",
       "    </tr>\n",
       "    <tr>\n",
       "      <th>2</th>\n",
       "      <td>2</td>\n",
       "      <td>240</td>\n",
       "      <td>The Godfather Part II</td>\n",
       "      <td>In the continuing saga of the Corleone crime f...</td>\n",
       "      <td>1974-12-20</td>\n",
       "      <td>148.349</td>\n",
       "      <td>8.577</td>\n",
       "      <td>11954</td>\n",
       "    </tr>\n",
       "    <tr>\n",
       "      <th>3</th>\n",
       "      <td>3</td>\n",
       "      <td>424</td>\n",
       "      <td>Schindler's List</td>\n",
       "      <td>The true story of how businessman Oskar Schind...</td>\n",
       "      <td>1993-12-15</td>\n",
       "      <td>113.543</td>\n",
       "      <td>8.567</td>\n",
       "      <td>15358</td>\n",
       "    </tr>\n",
       "    <tr>\n",
       "      <th>4</th>\n",
       "      <td>4</td>\n",
       "      <td>389</td>\n",
       "      <td>12 Angry Men</td>\n",
       "      <td>The defense and the prosecution have rested an...</td>\n",
       "      <td>1957-04-10</td>\n",
       "      <td>79.276</td>\n",
       "      <td>8.543</td>\n",
       "      <td>8228</td>\n",
       "    </tr>\n",
       "  </tbody>\n",
       "</table>\n",
       "</div>"
      ],
      "text/plain": [
       "   Unnamed: 0   id                     title  \\\n",
       "0           0  278  The Shawshank Redemption   \n",
       "1           1  238             The Godfather   \n",
       "2           2  240     The Godfather Part II   \n",
       "3           3  424          Schindler's List   \n",
       "4           4  389              12 Angry Men   \n",
       "\n",
       "                                            overview release_date  popularity  \\\n",
       "0  Imprisoned in the 1940s for the double murder ...   1994-09-23     162.501   \n",
       "1  Spanning the years 1945 to 1955, a chronicle o...   1972-03-14     192.686   \n",
       "2  In the continuing saga of the Corleone crime f...   1974-12-20     148.349   \n",
       "3  The true story of how businessman Oskar Schind...   1993-12-15     113.543   \n",
       "4  The defense and the prosecution have rested an...   1957-04-10      79.276   \n",
       "\n",
       "   vote_average  vote_count  \n",
       "0         8.704       26105  \n",
       "1         8.696       19788  \n",
       "2         8.577       11954  \n",
       "3         8.567       15358  \n",
       "4         8.543        8228  "
      ]
     },
     "execution_count": 11,
     "metadata": {},
     "output_type": "execute_result"
    }
   ],
   "source": [
    "data.head()"
   ]
  },
  {
   "cell_type": "code",
   "execution_count": 12,
   "id": "ba1e56dd-8a97-43fd-b4e4-901bab2236af",
   "metadata": {},
   "outputs": [
    {
     "name": "stdout",
     "output_type": "stream",
     "text": [
      "<class 'pandas.core.frame.DataFrame'>\n",
      "RangeIndex: 9354 entries, 0 to 9353\n",
      "Data columns (total 8 columns):\n",
      " #   Column        Non-Null Count  Dtype  \n",
      "---  ------        --------------  -----  \n",
      " 0   Unnamed: 0    9354 non-null   int64  \n",
      " 1   id            9354 non-null   int64  \n",
      " 2   title         9354 non-null   object \n",
      " 3   overview      9353 non-null   object \n",
      " 4   release_date  9354 non-null   object \n",
      " 5   popularity    9354 non-null   float64\n",
      " 6   vote_average  9354 non-null   float64\n",
      " 7   vote_count    9354 non-null   int64  \n",
      "dtypes: float64(2), int64(3), object(3)\n",
      "memory usage: 584.8+ KB\n"
     ]
    }
   ],
   "source": [
    "data.info()"
   ]
  },
  {
   "cell_type": "code",
   "execution_count": 13,
   "id": "f079eae9-d138-40bc-b2c6-a8446d0563e3",
   "metadata": {},
   "outputs": [
    {
     "data": {
      "text/plain": [
       "<Axes: >"
      ]
     },
     "execution_count": 13,
     "metadata": {},
     "output_type": "execute_result"
    },
    {
     "data": {
      "image/png": "[encoded data removed]",
      "text/plain": [
       "<Figure size 640x480 with 1 Axes>"
      ]
     },
     "metadata": {},
     "output_type": "display_data"
    }
   ],
   "source": [
    "# Plotting all data \n",
    "data1 = data.loc[:,[\"popularity\",\"vote_count\",\"vote_average\"]]\n",
    "data1.plot()\n",
    "# it is confusing"
   ]
  },
  {
   "cell_type": "code",
   "execution_count": 14,
   "id": "5825882d-46dd-4cf5-94fb-14343ef5bf04",
   "metadata": {},
   "outputs": [
    {
     "data": {
      "text/plain": [
       "array([<Axes: >, <Axes: >, <Axes: >], dtype=object)"
      ]
     },
     "execution_count": 14,
     "metadata": {},
     "output_type": "execute_result"
    },
    {
     "data": {
      "image/png": "[encoded data removed]",
      "text/plain": [
       "<Figure size 640x480 with 3 Axes>"
      ]
     },
     "metadata": {},
     "output_type": "display_data"
    }
   ],
   "source": [
    "data1.plot(subplots=True)"
   ]
  },
  {
   "cell_type": "code",
   "execution_count": 15,
   "id": "9d23612b-f15b-4b0d-9498-dbbbb6c85f88",
   "metadata": {},
   "outputs": [
    {
     "data": {
      "image/png": "[encoded data removed]",
      "text/plain": [
       "<Figure size 640x480 with 1 Axes>"
      ]
     },
     "metadata": {},
     "output_type": "display_data"
    }
   ],
   "source": [
    "data1.plot(kind=\"scatter\",x=\"popularity\",y=\"vote_average\")\n",
    "plt.show()"
   ]
  },
  {
   "cell_type": "code",
   "execution_count": 16,
   "id": "37f7526a-7418-41e2-8238-3a21f413c624",
   "metadata": {},
   "outputs": [
    {
     "data": {
      "image/png": "[encoded data removed]",
      "text/plain": [
       "<Figure size 640x480 with 1 Axes>"
      ]
     },
     "metadata": {},
     "output_type": "display_data"
    }
   ],
   "source": [
    "data1.plot(kind=\"line\",x=\"popularity\",y=\"vote_average\")\n",
    "plt.show()"
   ]
  },
  {
   "cell_type": "code",
   "execution_count": 17,
   "id": "7d8d5363-37dd-4aa5-ad77-55bca53a60de",
   "metadata": {},
   "outputs": [
    {
     "data": {
      "text/plain": [
       "<Axes: ylabel='Frequency'>"
      ]
     },
     "execution_count": 17,
     "metadata": {},
     "output_type": "execute_result"
    },
    {
     "data": {
      "image/png": "[encoded data removed]",
      "text/plain": [
       "<Figure size 640x480 with 1 Axes>"
      ]
     },
     "metadata": {},
     "output_type": "display_data"
    }
   ],
   "source": [
    "# hist plot  \n",
    "data1.plot(kind=\"hist\", y=\"popularity\", bins=50, range=(0,250), density=True)\n"
   ]
  },
  {
   "cell_type": "code",
   "execution_count": 18,
   "id": "9ad1ebc9-96f1-4744-ba6b-a9f0ac60a1e4",
   "metadata": {},
   "outputs": [
    {
     "data": {
      "image/png": "[encoded data removed]",
      "text/plain": [
       "<Figure size 640x480 with 2 Axes>"
      ]
     },
     "metadata": {},
     "output_type": "display_data"
    }
   ],
   "source": [
    "fig, axes = plt.subplots(nrows=2, ncols=1)\n",
    "data1.plot(kind=\"hist\", y=\"popularity\", bins=50, range=(0, 250), density=True, ax=axes[0])\n",
    "data1.plot(kind=\"hist\", y=\"popularity\", bins=50, range=(0, 250), density=True, ax=axes[1], cumulative=True)\n",
    "plt.savefig('graph.png')\n",
    "plt.show()"
   ]
  },
  {
   "cell_type": "code",
   "execution_count": 19,
   "id": "3889216f-62a3-4acc-87c1-7e929b3f9a83",
   "metadata": {},
   "outputs": [
    {
     "data": {
      "image/png": "[encoded data removed]",
      "text/plain": [
       "<Figure size 640x480 with 2 Axes>"
      ]
     },
     "metadata": {},
     "output_type": "display_data"
    }
   ],
   "source": [
    "np.random.seed(0)\n",
    "data1 = pd.DataFrame({\n",
    "    'Defense': np.random.normal(loc=100, scale=20, size=1000)\n",
    "})\n",
    "\n",
    "# Create the figure and subplots\n",
    "fig, axes = plt.subplots(nrows=2, ncols=1)\n",
    "\n",
    "# Plot a non-cumulative histogram on the first subplot\n",
    "data1.plot(kind=\"hist\", y=\"Defense\", bins=50, range=(0, 250), density=True, ax=axes[0])\n",
    "axes[0].set_title('Non-cumulative Histogram')\n",
    "\n",
    "# Plot a cumulative histogram on the second subplot\n",
    "data1.plot(kind=\"hist\", y=\"Defense\", bins=50, range=(0, 250), density=True, ax=axes[1], cumulative=True)\n",
    "axes[1].set_title('Cumulative Histogram')\n",
    "\n",
    "# Adjust layout and show the plot\n",
    "plt.tight_layout()\n",
    "plt.savefig('graph.png')\n",
    "plt.show()"
   ]
  },
  {
   "cell_type": "code",
   "execution_count": 20,
   "id": "3a928598-3e3f-4668-8e5d-9a28236ec4c7",
   "metadata": {},
   "outputs": [
    {
     "name": "stdout",
     "output_type": "stream",
     "text": [
      "<class 'str'>\n",
      "<class 'pandas.core.indexes.datetimes.DatetimeIndex'>\n"
     ]
    }
   ],
   "source": [
    "time_list = [\"1992-03-08\",\"1992-04-12\"]\n",
    "print(type(time_list[1])) # As you can see date is string\n",
    "# however we want it to be datetime object\n",
    "datetime_object = pd.to_datetime(time_list)\n",
    "print(type(datetime_object))"
   ]
  },
  {
   "cell_type": "code",
   "execution_count": 21,
   "id": "339e1430-173b-483a-8224-dc1fb0cdbc59",
   "metadata": {},
   "outputs": [
    {
     "data": {
      "text/html": [
       "<div>\n",
       "<style scoped>\n",
       "    .dataframe tbody tr th:only-of-type {\n",
       "        vertical-align: middle;\n",
       "    }\n",
       "\n",
       "    .dataframe tbody tr th {\n",
       "        vertical-align: top;\n",
       "    }\n",
       "\n",
       "    .dataframe thead th {\n",
       "        text-align: right;\n",
       "    }\n",
       "</style>\n",
       "<table border=\"1\" class=\"dataframe\">\n",
       "  <thead>\n",
       "    <tr style=\"text-align: right;\">\n",
       "      <th></th>\n",
       "      <th>Unnamed: 0</th>\n",
       "      <th>id</th>\n",
       "      <th>title</th>\n",
       "      <th>overview</th>\n",
       "      <th>release_date</th>\n",
       "      <th>popularity</th>\n",
       "      <th>vote_average</th>\n",
       "      <th>vote_count</th>\n",
       "    </tr>\n",
       "    <tr>\n",
       "      <th>date</th>\n",
       "      <th></th>\n",
       "      <th></th>\n",
       "      <th></th>\n",
       "      <th></th>\n",
       "      <th></th>\n",
       "      <th></th>\n",
       "      <th></th>\n",
       "      <th></th>\n",
       "    </tr>\n",
       "  </thead>\n",
       "  <tbody>\n",
       "    <tr>\n",
       "      <th>1992-01-10</th>\n",
       "      <td>0</td>\n",
       "      <td>278</td>\n",
       "      <td>The Shawshank Redemption</td>\n",
       "      <td>Imprisoned in the 1940s for the double murder ...</td>\n",
       "      <td>1994-09-23</td>\n",
       "      <td>162.501</td>\n",
       "      <td>8.704</td>\n",
       "      <td>26105</td>\n",
       "    </tr>\n",
       "    <tr>\n",
       "      <th>1992-02-10</th>\n",
       "      <td>1</td>\n",
       "      <td>238</td>\n",
       "      <td>The Godfather</td>\n",
       "      <td>Spanning the years 1945 to 1955, a chronicle o...</td>\n",
       "      <td>1972-03-14</td>\n",
       "      <td>192.686</td>\n",
       "      <td>8.696</td>\n",
       "      <td>19788</td>\n",
       "    </tr>\n",
       "    <tr>\n",
       "      <th>1992-03-10</th>\n",
       "      <td>2</td>\n",
       "      <td>240</td>\n",
       "      <td>The Godfather Part II</td>\n",
       "      <td>In the continuing saga of the Corleone crime f...</td>\n",
       "      <td>1974-12-20</td>\n",
       "      <td>148.349</td>\n",
       "      <td>8.577</td>\n",
       "      <td>11954</td>\n",
       "    </tr>\n",
       "    <tr>\n",
       "      <th>1993-03-15</th>\n",
       "      <td>3</td>\n",
       "      <td>424</td>\n",
       "      <td>Schindler's List</td>\n",
       "      <td>The true story of how businessman Oskar Schind...</td>\n",
       "      <td>1993-12-15</td>\n",
       "      <td>113.543</td>\n",
       "      <td>8.567</td>\n",
       "      <td>15358</td>\n",
       "    </tr>\n",
       "    <tr>\n",
       "      <th>1993-03-16</th>\n",
       "      <td>4</td>\n",
       "      <td>389</td>\n",
       "      <td>12 Angry Men</td>\n",
       "      <td>The defense and the prosecution have rested an...</td>\n",
       "      <td>1957-04-10</td>\n",
       "      <td>79.276</td>\n",
       "      <td>8.543</td>\n",
       "      <td>8228</td>\n",
       "    </tr>\n",
       "  </tbody>\n",
       "</table>\n",
       "</div>"
      ],
      "text/plain": [
       "            Unnamed: 0   id                     title  \\\n",
       "date                                                    \n",
       "1992-01-10           0  278  The Shawshank Redemption   \n",
       "1992-02-10           1  238             The Godfather   \n",
       "1992-03-10           2  240     The Godfather Part II   \n",
       "1993-03-15           3  424          Schindler's List   \n",
       "1993-03-16           4  389              12 Angry Men   \n",
       "\n",
       "                                                     overview release_date  \\\n",
       "date                                                                         \n",
       "1992-01-10  Imprisoned in the 1940s for the double murder ...   1994-09-23   \n",
       "1992-02-10  Spanning the years 1945 to 1955, a chronicle o...   1972-03-14   \n",
       "1992-03-10  In the continuing saga of the Corleone crime f...   1974-12-20   \n",
       "1993-03-15  The true story of how businessman Oskar Schind...   1993-12-15   \n",
       "1993-03-16  The defense and the prosecution have rested an...   1957-04-10   \n",
       "\n",
       "            popularity  vote_average  vote_count  \n",
       "date                                              \n",
       "1992-01-10     162.501         8.704       26105  \n",
       "1992-02-10     192.686         8.696       19788  \n",
       "1992-03-10     148.349         8.577       11954  \n",
       "1993-03-15     113.543         8.567       15358  \n",
       "1993-03-16      79.276         8.543        8228  "
      ]
     },
     "execution_count": 21,
     "metadata": {},
     "output_type": "execute_result"
    }
   ],
   "source": [
    "# In order to practice lets take head of pokemon data and add it a time list\n",
    "# Assuming data is your original DataFrame\n",
    "data2 = data.head().copy()\n",
    "\n",
    "# Create a datetime list\n",
    "date_list = [\"1992-01-10\", \"1992-02-10\", \"1992-03-10\", \"1993-03-15\", \"1993-03-16\"]\n",
    "datetime_object = pd.to_datetime(date_list)\n",
    "\n",
    "# Assign the datetime list to the new \"date\" column using .loc\n",
    "data2.loc[:, \"date\"] = datetime_object\n",
    "\n",
    "# Set the \"date\" column as the index\n",
    "data2 = data2.set_index(\"date\")\n",
    "\n",
    "data2"
   ]
  },
  {
   "cell_type": "code",
   "execution_count": 23,
   "id": "066d7049-4193-4bbb-ae74-6fe8c36ccb03",
   "metadata": {},
   "outputs": [],
   "source": [
    "\n",
    "# Assuming data2 is already defined as in your previous code\n",
    "data2 = data2.select_dtypes(include='number')\n",
    "\n",
    "# Resample the data annually and compute the mean\n",
    "result = data2.resample(\"A\").mean()\n"
   ]
  },
  {
   "cell_type": "code",
   "execution_count": 25,
   "id": "6483e30b-c54b-4d5b-a43e-aa81d184b2c8",
   "metadata": {},
   "outputs": [
    {
     "data": {
      "text/html": [
       "<div>\n",
       "<style scoped>\n",
       "    .dataframe tbody tr th:only-of-type {\n",
       "        vertical-align: middle;\n",
       "    }\n",
       "\n",
       "    .dataframe tbody tr th {\n",
       "        vertical-align: top;\n",
       "    }\n",
       "\n",
       "    .dataframe thead th {\n",
       "        text-align: right;\n",
       "    }\n",
       "</style>\n",
       "<table border=\"1\" class=\"dataframe\">\n",
       "  <thead>\n",
       "    <tr style=\"text-align: right;\">\n",
       "      <th></th>\n",
       "      <th>Unnamed: 0</th>\n",
       "      <th>id</th>\n",
       "      <th>popularity</th>\n",
       "      <th>vote_average</th>\n",
       "      <th>vote_count</th>\n",
       "    </tr>\n",
       "    <tr>\n",
       "      <th>date</th>\n",
       "      <th></th>\n",
       "      <th></th>\n",
       "      <th></th>\n",
       "      <th></th>\n",
       "      <th></th>\n",
       "    </tr>\n",
       "  </thead>\n",
       "  <tbody>\n",
       "    <tr>\n",
       "      <th>1992-12-31</th>\n",
       "      <td>1.0</td>\n",
       "      <td>252.0</td>\n",
       "      <td>167.845333</td>\n",
       "      <td>8.659</td>\n",
       "      <td>19282.333333</td>\n",
       "    </tr>\n",
       "    <tr>\n",
       "      <th>1993-12-31</th>\n",
       "      <td>3.5</td>\n",
       "      <td>406.5</td>\n",
       "      <td>96.409500</td>\n",
       "      <td>8.555</td>\n",
       "      <td>11793.000000</td>\n",
       "    </tr>\n",
       "  </tbody>\n",
       "</table>\n",
       "</div>"
      ],
      "text/plain": [
       "            Unnamed: 0     id  popularity  vote_average    vote_count\n",
       "date                                                                 \n",
       "1992-12-31         1.0  252.0  167.845333         8.659  19282.333333\n",
       "1993-12-31         3.5  406.5   96.409500         8.555  11793.000000"
      ]
     },
     "execution_count": 25,
     "metadata": {},
     "output_type": "execute_result"
    }
   ],
   "source": [
    "result"
   ]
  },
  {
   "cell_type": "code",
   "execution_count": 27,
   "id": "b751268a-a30f-4b3d-92cb-0aa5f646d9b0",
   "metadata": {},
   "outputs": [
    {
     "data": {
      "text/html": [
       "<div>\n",
       "<style scoped>\n",
       "    .dataframe tbody tr th:only-of-type {\n",
       "        vertical-align: middle;\n",
       "    }\n",
       "\n",
       "    .dataframe tbody tr th {\n",
       "        vertical-align: top;\n",
       "    }\n",
       "\n",
       "    .dataframe thead th {\n",
       "        text-align: right;\n",
       "    }\n",
       "</style>\n",
       "<table border=\"1\" class=\"dataframe\">\n",
       "  <thead>\n",
       "    <tr style=\"text-align: right;\">\n",
       "      <th></th>\n",
       "      <th>Unnamed: 0</th>\n",
       "      <th>id</th>\n",
       "      <th>popularity</th>\n",
       "      <th>vote_average</th>\n",
       "      <th>vote_count</th>\n",
       "    </tr>\n",
       "    <tr>\n",
       "      <th>date</th>\n",
       "      <th></th>\n",
       "      <th></th>\n",
       "      <th></th>\n",
       "      <th></th>\n",
       "      <th></th>\n",
       "    </tr>\n",
       "  </thead>\n",
       "  <tbody>\n",
       "    <tr>\n",
       "      <th>1992-01-31</th>\n",
       "      <td>0.0</td>\n",
       "      <td>278.0</td>\n",
       "      <td>162.5010</td>\n",
       "      <td>8.704</td>\n",
       "      <td>26105.0</td>\n",
       "    </tr>\n",
       "    <tr>\n",
       "      <th>1992-02-29</th>\n",
       "      <td>1.0</td>\n",
       "      <td>238.0</td>\n",
       "      <td>192.6860</td>\n",
       "      <td>8.696</td>\n",
       "      <td>19788.0</td>\n",
       "    </tr>\n",
       "    <tr>\n",
       "      <th>1992-03-31</th>\n",
       "      <td>2.0</td>\n",
       "      <td>240.0</td>\n",
       "      <td>148.3490</td>\n",
       "      <td>8.577</td>\n",
       "      <td>11954.0</td>\n",
       "    </tr>\n",
       "    <tr>\n",
       "      <th>1992-04-30</th>\n",
       "      <td>NaN</td>\n",
       "      <td>NaN</td>\n",
       "      <td>NaN</td>\n",
       "      <td>NaN</td>\n",
       "      <td>NaN</td>\n",
       "    </tr>\n",
       "    <tr>\n",
       "      <th>1992-05-31</th>\n",
       "      <td>NaN</td>\n",
       "      <td>NaN</td>\n",
       "      <td>NaN</td>\n",
       "      <td>NaN</td>\n",
       "      <td>NaN</td>\n",
       "    </tr>\n",
       "    <tr>\n",
       "      <th>1992-06-30</th>\n",
       "      <td>NaN</td>\n",
       "      <td>NaN</td>\n",
       "      <td>NaN</td>\n",
       "      <td>NaN</td>\n",
       "      <td>NaN</td>\n",
       "    </tr>\n",
       "    <tr>\n",
       "      <th>1992-07-31</th>\n",
       "      <td>NaN</td>\n",
       "      <td>NaN</td>\n",
       "      <td>NaN</td>\n",
       "      <td>NaN</td>\n",
       "      <td>NaN</td>\n",
       "    </tr>\n",
       "    <tr>\n",
       "      <th>1992-08-31</th>\n",
       "      <td>NaN</td>\n",
       "      <td>NaN</td>\n",
       "      <td>NaN</td>\n",
       "      <td>NaN</td>\n",
       "      <td>NaN</td>\n",
       "    </tr>\n",
       "    <tr>\n",
       "      <th>1992-09-30</th>\n",
       "      <td>NaN</td>\n",
       "      <td>NaN</td>\n",
       "      <td>NaN</td>\n",
       "      <td>NaN</td>\n",
       "      <td>NaN</td>\n",
       "    </tr>\n",
       "    <tr>\n",
       "      <th>1992-10-31</th>\n",
       "      <td>NaN</td>\n",
       "      <td>NaN</td>\n",
       "      <td>NaN</td>\n",
       "      <td>NaN</td>\n",
       "      <td>NaN</td>\n",
       "    </tr>\n",
       "    <tr>\n",
       "      <th>1992-11-30</th>\n",
       "      <td>NaN</td>\n",
       "      <td>NaN</td>\n",
       "      <td>NaN</td>\n",
       "      <td>NaN</td>\n",
       "      <td>NaN</td>\n",
       "    </tr>\n",
       "    <tr>\n",
       "      <th>1992-12-31</th>\n",
       "      <td>NaN</td>\n",
       "      <td>NaN</td>\n",
       "      <td>NaN</td>\n",
       "      <td>NaN</td>\n",
       "      <td>NaN</td>\n",
       "    </tr>\n",
       "    <tr>\n",
       "      <th>1993-01-31</th>\n",
       "      <td>NaN</td>\n",
       "      <td>NaN</td>\n",
       "      <td>NaN</td>\n",
       "      <td>NaN</td>\n",
       "      <td>NaN</td>\n",
       "    </tr>\n",
       "    <tr>\n",
       "      <th>1993-02-28</th>\n",
       "      <td>NaN</td>\n",
       "      <td>NaN</td>\n",
       "      <td>NaN</td>\n",
       "      <td>NaN</td>\n",
       "      <td>NaN</td>\n",
       "    </tr>\n",
       "    <tr>\n",
       "      <th>1993-03-31</th>\n",
       "      <td>3.5</td>\n",
       "      <td>406.5</td>\n",
       "      <td>96.4095</td>\n",
       "      <td>8.555</td>\n",
       "      <td>11793.0</td>\n",
       "    </tr>\n",
       "  </tbody>\n",
       "</table>\n",
       "</div>"
      ],
      "text/plain": [
       "            Unnamed: 0     id  popularity  vote_average  vote_count\n",
       "date                                                               \n",
       "1992-01-31         0.0  278.0    162.5010         8.704     26105.0\n",
       "1992-02-29         1.0  238.0    192.6860         8.696     19788.0\n",
       "1992-03-31         2.0  240.0    148.3490         8.577     11954.0\n",
       "1992-04-30         NaN    NaN         NaN           NaN         NaN\n",
       "1992-05-31         NaN    NaN         NaN           NaN         NaN\n",
       "1992-06-30         NaN    NaN         NaN           NaN         NaN\n",
       "1992-07-31         NaN    NaN         NaN           NaN         NaN\n",
       "1992-08-31         NaN    NaN         NaN           NaN         NaN\n",
       "1992-09-30         NaN    NaN         NaN           NaN         NaN\n",
       "1992-10-31         NaN    NaN         NaN           NaN         NaN\n",
       "1992-11-30         NaN    NaN         NaN           NaN         NaN\n",
       "1992-12-31         NaN    NaN         NaN           NaN         NaN\n",
       "1993-01-31         NaN    NaN         NaN           NaN         NaN\n",
       "1993-02-28         NaN    NaN         NaN           NaN         NaN\n",
       "1993-03-31         3.5  406.5     96.4095         8.555     11793.0"
      ]
     },
     "execution_count": 27,
     "metadata": {},
     "output_type": "execute_result"
    }
   ],
   "source": [
    "# Lets resample with month\n",
    "data2.resample(\"M\").mean()\n",
    "# As you can see there are a lot of nan because data2 does not include all months"
   ]
  },
  {
   "cell_type": "code",
   "execution_count": 29,
   "id": "c190fc7a-226a-4272-8ba0-e9395918e41e",
   "metadata": {},
   "outputs": [
    {
     "data": {
      "text/html": [
       "<div>\n",
       "<style scoped>\n",
       "    .dataframe tbody tr th:only-of-type {\n",
       "        vertical-align: middle;\n",
       "    }\n",
       "\n",
       "    .dataframe tbody tr th {\n",
       "        vertical-align: top;\n",
       "    }\n",
       "\n",
       "    .dataframe thead th {\n",
       "        text-align: right;\n",
       "    }\n",
       "</style>\n",
       "<table border=\"1\" class=\"dataframe\">\n",
       "  <thead>\n",
       "    <tr style=\"text-align: right;\">\n",
       "      <th></th>\n",
       "      <th>Unnamed: 0</th>\n",
       "      <th>id</th>\n",
       "      <th>popularity</th>\n",
       "      <th>vote_average</th>\n",
       "      <th>vote_count</th>\n",
       "    </tr>\n",
       "    <tr>\n",
       "      <th>date</th>\n",
       "      <th></th>\n",
       "      <th></th>\n",
       "      <th></th>\n",
       "      <th></th>\n",
       "      <th></th>\n",
       "    </tr>\n",
       "  </thead>\n",
       "  <tbody>\n",
       "    <tr>\n",
       "      <th>1992-01-31</th>\n",
       "      <td>0.000000</td>\n",
       "      <td>278.000000</td>\n",
       "      <td>162.5010</td>\n",
       "      <td>8.704000</td>\n",
       "      <td>26105.000000</td>\n",
       "    </tr>\n",
       "    <tr>\n",
       "      <th>1992-02-29</th>\n",
       "      <td>1.000000</td>\n",
       "      <td>238.000000</td>\n",
       "      <td>192.6860</td>\n",
       "      <td>8.696000</td>\n",
       "      <td>19788.000000</td>\n",
       "    </tr>\n",
       "    <tr>\n",
       "      <th>1992-03-31</th>\n",
       "      <td>2.000000</td>\n",
       "      <td>240.000000</td>\n",
       "      <td>148.3490</td>\n",
       "      <td>8.577000</td>\n",
       "      <td>11954.000000</td>\n",
       "    </tr>\n",
       "    <tr>\n",
       "      <th>1992-04-30</th>\n",
       "      <td>2.083333</td>\n",
       "      <td>255.333333</td>\n",
       "      <td>145.4485</td>\n",
       "      <td>8.576167</td>\n",
       "      <td>12237.666667</td>\n",
       "    </tr>\n",
       "    <tr>\n",
       "      <th>1992-05-31</th>\n",
       "      <td>2.166667</td>\n",
       "      <td>270.666667</td>\n",
       "      <td>142.5480</td>\n",
       "      <td>8.575333</td>\n",
       "      <td>12521.333333</td>\n",
       "    </tr>\n",
       "    <tr>\n",
       "      <th>1992-06-30</th>\n",
       "      <td>2.250000</td>\n",
       "      <td>286.000000</td>\n",
       "      <td>139.6475</td>\n",
       "      <td>8.574500</td>\n",
       "      <td>12805.000000</td>\n",
       "    </tr>\n",
       "    <tr>\n",
       "      <th>1992-07-31</th>\n",
       "      <td>2.333333</td>\n",
       "      <td>301.333333</td>\n",
       "      <td>136.7470</td>\n",
       "      <td>8.573667</td>\n",
       "      <td>13088.666667</td>\n",
       "    </tr>\n",
       "    <tr>\n",
       "      <th>1992-08-31</th>\n",
       "      <td>2.416667</td>\n",
       "      <td>316.666667</td>\n",
       "      <td>133.8465</td>\n",
       "      <td>8.572833</td>\n",
       "      <td>13372.333333</td>\n",
       "    </tr>\n",
       "    <tr>\n",
       "      <th>1992-09-30</th>\n",
       "      <td>2.500000</td>\n",
       "      <td>332.000000</td>\n",
       "      <td>130.9460</td>\n",
       "      <td>8.572000</td>\n",
       "      <td>13656.000000</td>\n",
       "    </tr>\n",
       "    <tr>\n",
       "      <th>1992-10-31</th>\n",
       "      <td>2.583333</td>\n",
       "      <td>347.333333</td>\n",
       "      <td>128.0455</td>\n",
       "      <td>8.571167</td>\n",
       "      <td>13939.666667</td>\n",
       "    </tr>\n",
       "    <tr>\n",
       "      <th>1992-11-30</th>\n",
       "      <td>2.666667</td>\n",
       "      <td>362.666667</td>\n",
       "      <td>125.1450</td>\n",
       "      <td>8.570333</td>\n",
       "      <td>14223.333333</td>\n",
       "    </tr>\n",
       "    <tr>\n",
       "      <th>1992-12-31</th>\n",
       "      <td>2.750000</td>\n",
       "      <td>378.000000</td>\n",
       "      <td>122.2445</td>\n",
       "      <td>8.569500</td>\n",
       "      <td>14507.000000</td>\n",
       "    </tr>\n",
       "    <tr>\n",
       "      <th>1993-01-31</th>\n",
       "      <td>2.833333</td>\n",
       "      <td>393.333333</td>\n",
       "      <td>119.3440</td>\n",
       "      <td>8.568667</td>\n",
       "      <td>14790.666667</td>\n",
       "    </tr>\n",
       "    <tr>\n",
       "      <th>1993-02-28</th>\n",
       "      <td>2.916667</td>\n",
       "      <td>408.666667</td>\n",
       "      <td>116.4435</td>\n",
       "      <td>8.567833</td>\n",
       "      <td>15074.333333</td>\n",
       "    </tr>\n",
       "    <tr>\n",
       "      <th>1993-03-31</th>\n",
       "      <td>3.000000</td>\n",
       "      <td>424.000000</td>\n",
       "      <td>113.5430</td>\n",
       "      <td>8.567000</td>\n",
       "      <td>15358.000000</td>\n",
       "    </tr>\n",
       "  </tbody>\n",
       "</table>\n",
       "</div>"
      ],
      "text/plain": [
       "            Unnamed: 0          id  popularity  vote_average    vote_count\n",
       "date                                                                      \n",
       "1992-01-31    0.000000  278.000000    162.5010      8.704000  26105.000000\n",
       "1992-02-29    1.000000  238.000000    192.6860      8.696000  19788.000000\n",
       "1992-03-31    2.000000  240.000000    148.3490      8.577000  11954.000000\n",
       "1992-04-30    2.083333  255.333333    145.4485      8.576167  12237.666667\n",
       "1992-05-31    2.166667  270.666667    142.5480      8.575333  12521.333333\n",
       "1992-06-30    2.250000  286.000000    139.6475      8.574500  12805.000000\n",
       "1992-07-31    2.333333  301.333333    136.7470      8.573667  13088.666667\n",
       "1992-08-31    2.416667  316.666667    133.8465      8.572833  13372.333333\n",
       "1992-09-30    2.500000  332.000000    130.9460      8.572000  13656.000000\n",
       "1992-10-31    2.583333  347.333333    128.0455      8.571167  13939.666667\n",
       "1992-11-30    2.666667  362.666667    125.1450      8.570333  14223.333333\n",
       "1992-12-31    2.750000  378.000000    122.2445      8.569500  14507.000000\n",
       "1993-01-31    2.833333  393.333333    119.3440      8.568667  14790.666667\n",
       "1993-02-28    2.916667  408.666667    116.4435      8.567833  15074.333333\n",
       "1993-03-31    3.000000  424.000000    113.5430      8.567000  15358.000000"
      ]
     },
     "execution_count": 29,
     "metadata": {},
     "output_type": "execute_result"
    }
   ],
   "source": [
    "# In real life (data is real. Not created from us like data2) we can solve this problem with interpolate\n",
    "# We can interpolete from first value\n",
    "data2.resample(\"M\").first().interpolate(\"linear\")"
   ]
  },
  {
   "cell_type": "code",
   "execution_count": 31,
   "id": "6bf747fb-f42c-4792-acbd-c0be31e9104b",
   "metadata": {},
   "outputs": [
    {
     "data": {
      "text/html": [
       "<div>\n",
       "<style scoped>\n",
       "    .dataframe tbody tr th:only-of-type {\n",
       "        vertical-align: middle;\n",
       "    }\n",
       "\n",
       "    .dataframe tbody tr th {\n",
       "        vertical-align: top;\n",
       "    }\n",
       "\n",
       "    .dataframe thead th {\n",
       "        text-align: right;\n",
       "    }\n",
       "</style>\n",
       "<table border=\"1\" class=\"dataframe\">\n",
       "  <thead>\n",
       "    <tr style=\"text-align: right;\">\n",
       "      <th></th>\n",
       "      <th>Unnamed: 0</th>\n",
       "      <th>id</th>\n",
       "      <th>popularity</th>\n",
       "      <th>vote_average</th>\n",
       "      <th>vote_count</th>\n",
       "    </tr>\n",
       "    <tr>\n",
       "      <th>date</th>\n",
       "      <th></th>\n",
       "      <th></th>\n",
       "      <th></th>\n",
       "      <th></th>\n",
       "      <th></th>\n",
       "    </tr>\n",
       "  </thead>\n",
       "  <tbody>\n",
       "    <tr>\n",
       "      <th>1992-01-31</th>\n",
       "      <td>0.000</td>\n",
       "      <td>278.000</td>\n",
       "      <td>162.501000</td>\n",
       "      <td>8.704000</td>\n",
       "      <td>26105.000000</td>\n",
       "    </tr>\n",
       "    <tr>\n",
       "      <th>1992-02-29</th>\n",
       "      <td>1.000</td>\n",
       "      <td>238.000</td>\n",
       "      <td>192.686000</td>\n",
       "      <td>8.696000</td>\n",
       "      <td>19788.000000</td>\n",
       "    </tr>\n",
       "    <tr>\n",
       "      <th>1992-03-31</th>\n",
       "      <td>2.000</td>\n",
       "      <td>240.000</td>\n",
       "      <td>148.349000</td>\n",
       "      <td>8.577000</td>\n",
       "      <td>11954.000000</td>\n",
       "    </tr>\n",
       "    <tr>\n",
       "      <th>1992-04-30</th>\n",
       "      <td>2.125</td>\n",
       "      <td>253.875</td>\n",
       "      <td>144.020708</td>\n",
       "      <td>8.575167</td>\n",
       "      <td>11940.583333</td>\n",
       "    </tr>\n",
       "    <tr>\n",
       "      <th>1992-05-31</th>\n",
       "      <td>2.250</td>\n",
       "      <td>267.750</td>\n",
       "      <td>139.692417</td>\n",
       "      <td>8.573333</td>\n",
       "      <td>11927.166667</td>\n",
       "    </tr>\n",
       "    <tr>\n",
       "      <th>1992-06-30</th>\n",
       "      <td>2.375</td>\n",
       "      <td>281.625</td>\n",
       "      <td>135.364125</td>\n",
       "      <td>8.571500</td>\n",
       "      <td>11913.750000</td>\n",
       "    </tr>\n",
       "    <tr>\n",
       "      <th>1992-07-31</th>\n",
       "      <td>2.500</td>\n",
       "      <td>295.500</td>\n",
       "      <td>131.035833</td>\n",
       "      <td>8.569667</td>\n",
       "      <td>11900.333333</td>\n",
       "    </tr>\n",
       "    <tr>\n",
       "      <th>1992-08-31</th>\n",
       "      <td>2.625</td>\n",
       "      <td>309.375</td>\n",
       "      <td>126.707542</td>\n",
       "      <td>8.567833</td>\n",
       "      <td>11886.916667</td>\n",
       "    </tr>\n",
       "    <tr>\n",
       "      <th>1992-09-30</th>\n",
       "      <td>2.750</td>\n",
       "      <td>323.250</td>\n",
       "      <td>122.379250</td>\n",
       "      <td>8.566000</td>\n",
       "      <td>11873.500000</td>\n",
       "    </tr>\n",
       "    <tr>\n",
       "      <th>1992-10-31</th>\n",
       "      <td>2.875</td>\n",
       "      <td>337.125</td>\n",
       "      <td>118.050958</td>\n",
       "      <td>8.564167</td>\n",
       "      <td>11860.083333</td>\n",
       "    </tr>\n",
       "    <tr>\n",
       "      <th>1992-11-30</th>\n",
       "      <td>3.000</td>\n",
       "      <td>351.000</td>\n",
       "      <td>113.722667</td>\n",
       "      <td>8.562333</td>\n",
       "      <td>11846.666667</td>\n",
       "    </tr>\n",
       "    <tr>\n",
       "      <th>1992-12-31</th>\n",
       "      <td>3.125</td>\n",
       "      <td>364.875</td>\n",
       "      <td>109.394375</td>\n",
       "      <td>8.560500</td>\n",
       "      <td>11833.250000</td>\n",
       "    </tr>\n",
       "    <tr>\n",
       "      <th>1993-01-31</th>\n",
       "      <td>3.250</td>\n",
       "      <td>378.750</td>\n",
       "      <td>105.066083</td>\n",
       "      <td>8.558667</td>\n",
       "      <td>11819.833333</td>\n",
       "    </tr>\n",
       "    <tr>\n",
       "      <th>1993-02-28</th>\n",
       "      <td>3.375</td>\n",
       "      <td>392.625</td>\n",
       "      <td>100.737792</td>\n",
       "      <td>8.556833</td>\n",
       "      <td>11806.416667</td>\n",
       "    </tr>\n",
       "    <tr>\n",
       "      <th>1993-03-31</th>\n",
       "      <td>3.500</td>\n",
       "      <td>406.500</td>\n",
       "      <td>96.409500</td>\n",
       "      <td>8.555000</td>\n",
       "      <td>11793.000000</td>\n",
       "    </tr>\n",
       "  </tbody>\n",
       "</table>\n",
       "</div>"
      ],
      "text/plain": [
       "            Unnamed: 0       id  popularity  vote_average    vote_count\n",
       "date                                                                   \n",
       "1992-01-31       0.000  278.000  162.501000      8.704000  26105.000000\n",
       "1992-02-29       1.000  238.000  192.686000      8.696000  19788.000000\n",
       "1992-03-31       2.000  240.000  148.349000      8.577000  11954.000000\n",
       "1992-04-30       2.125  253.875  144.020708      8.575167  11940.583333\n",
       "1992-05-31       2.250  267.750  139.692417      8.573333  11927.166667\n",
       "1992-06-30       2.375  281.625  135.364125      8.571500  11913.750000\n",
       "1992-07-31       2.500  295.500  131.035833      8.569667  11900.333333\n",
       "1992-08-31       2.625  309.375  126.707542      8.567833  11886.916667\n",
       "1992-09-30       2.750  323.250  122.379250      8.566000  11873.500000\n",
       "1992-10-31       2.875  337.125  118.050958      8.564167  11860.083333\n",
       "1992-11-30       3.000  351.000  113.722667      8.562333  11846.666667\n",
       "1992-12-31       3.125  364.875  109.394375      8.560500  11833.250000\n",
       "1993-01-31       3.250  378.750  105.066083      8.558667  11819.833333\n",
       "1993-02-28       3.375  392.625  100.737792      8.556833  11806.416667\n",
       "1993-03-31       3.500  406.500   96.409500      8.555000  11793.000000"
      ]
     },
     "execution_count": 31,
     "metadata": {},
     "output_type": "execute_result"
    }
   ],
   "source": [
    "# Or we can interpolate with mean()\n",
    "data2.resample(\"M\").mean().interpolate(\"linear\")"
   ]
  },
  {
   "cell_type": "code",
   "execution_count": null,
   "id": "756b4547-ce1e-403d-990a-647da2832c83",
   "metadata": {},
   "outputs": [],
   "source": []
  }
 ],
 "metadata": {
  "kernelspec": {
   "display_name": "Python 3 (ipykernel)",
   "language": "python",
   "name": "python3"
  },
  "language_info": {
   "codemirror_mode": {
    "name": "ipython",
    "version": 3
   },
   "file_extension": ".py",
   "mimetype": "text/x-python",
   "name": "python",
   "nbconvert_exporter": "python",
   "pygments_lexer": "ipython3",
   "version": "3.11.7"
  }
 },
 "nbformat": 4,
 "nbformat_minor": 5
}
